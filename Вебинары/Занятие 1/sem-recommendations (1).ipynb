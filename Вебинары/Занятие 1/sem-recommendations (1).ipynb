{
 "cells": [
  {
   "cell_type": "markdown",
   "id": "elegant-basic",
   "metadata": {},
   "source": [
    "# Прикладные задачи анализа данных\n",
    "\n",
    "## Рекомендательные системы\n",
    "\n",
    "Для начала скачаем небольшое подмножество [данных](https://www.kaggle.com/datasets/rounakbanik/the-movies-dataset?select=movies_metadata.csv) об оценках фильмов пользователями."
   ]
  },
  {
   "cell_type": "code",
   "execution_count": 1,
   "id": "arbitrary-luxury",
   "metadata": {
    "scrolled": true,
    "tags": []
   },
   "outputs": [
    {
     "name": "stdout",
     "output_type": "stream",
     "text": [
      "Requirement already satisfied: kaggle in /Users/tsvigun/opt/anaconda3/envs/al/lib/python3.8/site-packages (1.5.12)\n",
      "Requirement already satisfied: urllib3 in /Users/tsvigun/opt/anaconda3/envs/al/lib/python3.8/site-packages (from kaggle) (1.26.9)\n",
      "Requirement already satisfied: six>=1.10 in /Users/tsvigun/opt/anaconda3/envs/al/lib/python3.8/site-packages (from kaggle) (1.16.0)\n",
      "Requirement already satisfied: python-dateutil in /Users/tsvigun/opt/anaconda3/envs/al/lib/python3.8/site-packages (from kaggle) (2.8.2)\n",
      "Requirement already satisfied: requests in /Users/tsvigun/opt/anaconda3/envs/al/lib/python3.8/site-packages (from kaggle) (2.28.0)\n",
      "Requirement already satisfied: tqdm in /Users/tsvigun/opt/anaconda3/envs/al/lib/python3.8/site-packages (from kaggle) (4.49.0)\n",
      "Requirement already satisfied: python-slugify in /Users/tsvigun/opt/anaconda3/envs/al/lib/python3.8/site-packages (from kaggle) (6.1.2)\n",
      "Requirement already satisfied: certifi in /Users/tsvigun/opt/anaconda3/envs/al/lib/python3.8/site-packages (from kaggle) (2022.6.15)\n",
      "Requirement already satisfied: text-unidecode>=1.3 in /Users/tsvigun/opt/anaconda3/envs/al/lib/python3.8/site-packages (from python-slugify->kaggle) (1.3)\n",
      "Requirement already satisfied: charset-normalizer~=2.0.0 in /Users/tsvigun/opt/anaconda3/envs/al/lib/python3.8/site-packages (from requests->kaggle) (2.0.12)\n",
      "Requirement already satisfied: idna<4,>=2.5 in /Users/tsvigun/opt/anaconda3/envs/al/lib/python3.8/site-packages (from requests->kaggle) (3.3)\n"
     ]
    },
    {
     "name": "stderr",
     "output_type": "stream",
     "text": [
      "WARNING: Error parsing requirements for datasets: [Errno 2] No such file or directory: '/Users/tsvigun/opt/anaconda3/envs/al/lib/python3.8/site-packages/datasets-1.18.3.dist-info/METADATA'\n",
      "100%|██████████| 179k/179k [00:00<00:00, 1.73MB/s]\n"
     ]
    },
    {
     "name": "stdout",
     "output_type": "stream",
     "text": [
      "Warning: Your Kaggle API key is readable by other users on this system! To fix this, you can run 'chmod 600 /Users/tsvigun/.kaggle/kaggle.json'\n",
      "Downloading links_small.csv to /Users/tsvigun/Downloads\n",
      "\n"
     ]
    },
    {
     "name": "stderr",
     "output_type": "stream",
     "text": [
      "100%|██████████| 659k/659k [00:00<00:00, 4.24MB/s]\n"
     ]
    },
    {
     "name": "stdout",
     "output_type": "stream",
     "text": [
      "Warning: Your Kaggle API key is readable by other users on this system! To fix this, you can run 'chmod 600 /Users/tsvigun/.kaggle/kaggle.json'\n",
      "Downloading ratings_small.csv.zip to /Users/tsvigun/Downloads\n",
      "\n"
     ]
    },
    {
     "name": "stderr",
     "output_type": "stream",
     "text": [
      "100%|██████████| 12.2M/12.2M [00:00<00:00, 18.7MB/s]\n"
     ]
    },
    {
     "name": "stdout",
     "output_type": "stream",
     "text": [
      "Warning: Your Kaggle API key is readable by other users on this system! To fix this, you can run 'chmod 600 /Users/tsvigun/.kaggle/kaggle.json'\n",
      "Downloading movies_metadata.csv.zip to /Users/tsvigun/Downloads\n",
      "\n",
      "Archive:  ratings_small.csv.zip\n",
      "  inflating: ratings_small.csv       \n",
      "Archive:  movies_metadata.csv.zip\n",
      "  inflating: movies_metadata.csv     \n"
     ]
    }
   ],
   "source": [
    "%%bash\n",
    "pip install kaggle\n",
    "kaggle datasets download -d rounakbanik/the-movies-dataset -f links_small.csv\n",
    "kaggle datasets download -d rounakbanik/the-movies-dataset -f ratings_small.csv\n",
    "kaggle datasets download -d rounakbanik/the-movies-dataset -f movies_metadata.csv\n",
    "unzip ratings_small.csv.zip\n",
    "rm ratings_small.csv.zip\n",
    "unzip movies_metadata.csv.zip\n",
    "rm movies_metadata.csv.zip"
   ]
  },
  {
   "cell_type": "code",
   "execution_count": 2,
   "id": "prescription-theology",
   "metadata": {},
   "outputs": [],
   "source": [
    "import pandas as pd\n",
    "import numpy as np\n",
    "import scipy.sparse as scs\n",
    "import seaborn as sns\n",
    "import matplotlib.pyplot as plt\n",
    "from tqdm.notebook import tqdm\n",
    "import warnings\n",
    "\n",
    "warnings.filterwarnings(\"ignore\")\n",
    "plt.rcParams.update({'font.size': 14})\n",
    "sns.set_style('whitegrid')"
   ]
  },
  {
   "cell_type": "markdown",
   "id": "comprehensive-genealogy",
   "metadata": {},
   "source": [
    "Загрузим данные и пообъединяем таблички, чтобы добавить к рейтингам метаданные фильмов (в нашем случае только название для удобства интерпретации)."
   ]
  },
  {
   "cell_type": "code",
   "execution_count": 4,
   "id": "indoor-provider",
   "metadata": {},
   "outputs": [
    {
     "data": {
      "text/html": [
       "<div>\n",
       "<style scoped>\n",
       "    .dataframe tbody tr th:only-of-type {\n",
       "        vertical-align: middle;\n",
       "    }\n",
       "\n",
       "    .dataframe tbody tr th {\n",
       "        vertical-align: top;\n",
       "    }\n",
       "\n",
       "    .dataframe thead th {\n",
       "        text-align: right;\n",
       "    }\n",
       "</style>\n",
       "<table border=\"1\" class=\"dataframe\">\n",
       "  <thead>\n",
       "    <tr style=\"text-align: right;\">\n",
       "      <th></th>\n",
       "      <th>userId</th>\n",
       "      <th>movieId</th>\n",
       "      <th>rating</th>\n",
       "      <th>timestamp</th>\n",
       "      <th>title</th>\n",
       "    </tr>\n",
       "  </thead>\n",
       "  <tbody>\n",
       "    <tr>\n",
       "      <th>706</th>\n",
       "      <td>0</td>\n",
       "      <td>1811</td>\n",
       "      <td>2.0</td>\n",
       "      <td>1260759108</td>\n",
       "      <td>Antz</td>\n",
       "    </tr>\n",
       "    <tr>\n",
       "      <th>759</th>\n",
       "      <td>0</td>\n",
       "      <td>1958</td>\n",
       "      <td>2.5</td>\n",
       "      <td>1260759113</td>\n",
       "      <td>The Fly</td>\n",
       "    </tr>\n",
       "    <tr>\n",
       "      <th>849</th>\n",
       "      <td>0</td>\n",
       "      <td>2920</td>\n",
       "      <td>3.0</td>\n",
       "      <td>1260759117</td>\n",
       "      <td>Blazing Saddles</td>\n",
       "    </tr>\n",
       "    <tr>\n",
       "      <th>351</th>\n",
       "      <td>0</td>\n",
       "      <td>1079</td>\n",
       "      <td>3.5</td>\n",
       "      <td>1260759125</td>\n",
       "      <td>Dracula</td>\n",
       "    </tr>\n",
       "    <tr>\n",
       "      <th>403</th>\n",
       "      <td>0</td>\n",
       "      <td>1083</td>\n",
       "      <td>2.0</td>\n",
       "      <td>1260759131</td>\n",
       "      <td>Cape Fear</td>\n",
       "    </tr>\n",
       "    <tr>\n",
       "      <th>...</th>\n",
       "      <td>...</td>\n",
       "      <td>...</td>\n",
       "      <td>...</td>\n",
       "      <td>...</td>\n",
       "      <td>...</td>\n",
       "    </tr>\n",
       "    <tr>\n",
       "      <th>89722</th>\n",
       "      <td>670</td>\n",
       "      <td>2622</td>\n",
       "      <td>4.0</td>\n",
       "      <td>1070940360</td>\n",
       "      <td>Of Mice and Men</td>\n",
       "    </tr>\n",
       "    <tr>\n",
       "      <th>59995</th>\n",
       "      <td>670</td>\n",
       "      <td>4588</td>\n",
       "      <td>4.0</td>\n",
       "      <td>1070940363</td>\n",
       "      <td>The Matrix Reloaded</td>\n",
       "    </tr>\n",
       "    <tr>\n",
       "      <th>60028</th>\n",
       "      <td>670</td>\n",
       "      <td>4601</td>\n",
       "      <td>2.5</td>\n",
       "      <td>1070979663</td>\n",
       "      <td>Whale Rider</td>\n",
       "    </tr>\n",
       "    <tr>\n",
       "      <th>80461</th>\n",
       "      <td>670</td>\n",
       "      <td>4687</td>\n",
       "      <td>3.5</td>\n",
       "      <td>1074784724</td>\n",
       "      <td>Seabiscuit</td>\n",
       "    </tr>\n",
       "    <tr>\n",
       "      <th>54108</th>\n",
       "      <td>670</td>\n",
       "      <td>2695</td>\n",
       "      <td>4.0</td>\n",
       "      <td>1074784735</td>\n",
       "      <td>JFK</td>\n",
       "    </tr>\n",
       "  </tbody>\n",
       "</table>\n",
       "<p>99850 rows × 5 columns</p>\n",
       "</div>"
      ],
      "text/plain": [
       "       userId  movieId  rating   timestamp                title\n",
       "706         0     1811     2.0  1260759108                 Antz\n",
       "759         0     1958     2.5  1260759113              The Fly\n",
       "849         0     2920     3.0  1260759117      Blazing Saddles\n",
       "351         0     1079     3.5  1260759125              Dracula\n",
       "403         0     1083     2.0  1260759131            Cape Fear\n",
       "...       ...      ...     ...         ...                  ...\n",
       "89722     670     2622     4.0  1070940360      Of Mice and Men\n",
       "59995     670     4588     4.0  1070940363  The Matrix Reloaded\n",
       "60028     670     4601     2.5  1070979663          Whale Rider\n",
       "80461     670     4687     3.5  1074784724           Seabiscuit\n",
       "54108     670     2695     4.0  1074784735                  JFK\n",
       "\n",
       "[99850 rows x 5 columns]"
      ]
     },
     "execution_count": 4,
     "metadata": {},
     "output_type": "execute_result"
    }
   ],
   "source": [
    "links = pd.read_csv('links_small.csv').dropna()\n",
    "links.tmdbId = links.tmdbId.astype(int).astype(object)\n",
    "links = links.rename(columns={'tmdbId': 'id'})\n",
    "\n",
    "# merge metadata with links to get (movieId, title) pairs\n",
    "metadata = pd.read_csv('movies_metadata.csv')\n",
    "bad_index = metadata[metadata.id.apply(lambda x: not x.isdigit())].index\n",
    "metadata = metadata.drop(bad_index)\n",
    "metadata.id = metadata.id.astype(int)\n",
    "metadata = metadata.merge(links, on='id')\n",
    "\n",
    "# merge movies titles with ratings\n",
    "ratings = pd.read_csv('ratings_small.csv')\n",
    "ratings = ratings.merge(metadata[['movieId', 'title']], on='movieId')\n",
    "\n",
    "# normalize userId and movieId\n",
    "ratings.userId = ratings.userId - 1\n",
    "ids = ratings.movieId.unique()\n",
    "ids.sort()\n",
    "ordered_ids = pd.factorize(ids)\n",
    "mapper = pd.Series(ordered_ids[0], ordered_ids[1])\n",
    "ratings.movieId = ratings.movieId.map(mapper)\n",
    "ratings = ratings.sort_values(['userId', 'timestamp'])\n",
    "\n",
    "ratings"
   ]
  },
  {
   "cell_type": "markdown",
   "id": "pressing-principal",
   "metadata": {},
   "source": [
    "Посмотрим, сколько всего есть уникальных фильмов и пользователей."
   ]
  },
  {
   "cell_type": "code",
   "execution_count": 5,
   "id": "occupational-gibson",
   "metadata": {},
   "outputs": [
    {
     "data": {
      "text/plain": [
       "(671, 9025)"
      ]
     },
     "execution_count": 5,
     "metadata": {},
     "output_type": "execute_result"
    }
   ],
   "source": [
    "num_users, num_movies = ratings.userId.max() + 1, ratings.movieId.max() + 1\n",
    "num_users, num_movies"
   ]
  },
  {
   "cell_type": "markdown",
   "id": "divine-franklin",
   "metadata": {},
   "source": [
    "Разделим выборку на обучение и тест следующим образом: для каждого пользователя в тестовую выборку попадут 10 его последних оценок."
   ]
  },
  {
   "cell_type": "code",
   "execution_count": 6,
   "id": "numerous-freeze",
   "metadata": {},
   "outputs": [
    {
     "data": {
      "text/plain": [
       "((93140, 5), (6710, 5))"
      ]
     },
     "execution_count": 6,
     "metadata": {},
     "output_type": "execute_result"
    }
   ],
   "source": [
    "train_ratings, test_ratings = [], []\n",
    "num_test_samples = 10\n",
    "\n",
    "for userId, user_data in ratings.groupby('userId'):\n",
    "    train_ratings += [user_data[:-num_test_samples]]\n",
    "    test_ratings += [user_data[-num_test_samples:]]\n",
    "\n",
    "train_ratings = pd.concat(train_ratings)\n",
    "test_ratings = pd.concat(test_ratings)\n",
    "train_ratings.shape, test_ratings.shape"
   ]
  },
  {
   "cell_type": "markdown",
   "id": "gentle-shower",
   "metadata": {},
   "source": [
    "Посмотрим на распределение рейтингов на обучении."
   ]
  },
  {
   "cell_type": "code",
   "execution_count": 7,
   "id": "wrong-costs",
   "metadata": {},
   "outputs": [
    {
     "data": {
      "image/png": "[encoded data removed]",
      "text/plain": [
       "<Figure size 360x360 with 1 Axes>"
      ]
     },
     "metadata": {
      "needs_background": "light"
     },
     "output_type": "display_data"
    }
   ],
   "source": [
    "_ = sns.displot(train_ratings.rating)"
   ]
  },
  {
   "cell_type": "markdown",
   "id": "circular-freeware",
   "metadata": {},
   "source": [
    "И на распределение числа оценок для разных фильмов. Видим типичную ситуацию с длинным хвостом распределения."
   ]
  },
  {
   "cell_type": "code",
   "execution_count": 8,
   "id": "funded-sampling",
   "metadata": {},
   "outputs": [
    {
     "data": {
      "image/png": "[encoded data removed]",
      "text/plain": [
       "<Figure size 360x360 with 1 Axes>"
      ]
     },
     "metadata": {
      "needs_background": "light"
     },
     "output_type": "display_data"
    }
   ],
   "source": [
    "_ = sns.displot(train_ratings.groupby('movieId').size(), log_scale=True)"
   ]
  },
  {
   "cell_type": "markdown",
   "id": "efficient-driving",
   "metadata": {},
   "source": [
    "На таких маленьких данных мы можем позволить себе обучить полный ALS с честным обращением матриц."
   ]
  },
  {
   "cell_type": "code",
   "execution_count": 9,
   "id": "statistical-allowance",
   "metadata": {},
   "outputs": [],
   "source": [
    "def ALS(user_ids, item_ids, ratings, num_users, num_items, num_dims=64, num_iters=10, eps=1e-7):\n",
    "    R = scs.coo_array((ratings, (user_ids, item_ids)), shape=(num_users, num_items)).tocsr()\n",
    "    P = np.random.randn(num_users, num_dims)\n",
    "    Q = np.random.randn(num_items, num_dims)\n",
    "    \n",
    "    for t in tqdm(range(num_iters)):\n",
    "        RQ = R @ Q\n",
    "        for u in range(num_users):\n",
    "            relevant_items = item_ids[user_ids == u]\n",
    "            Q_rel = Q[relevant_items]\n",
    "            QQ = Q_rel.reshape(-1, num_dims, 1) * Q_rel.reshape(-1, 1, num_dims)\n",
    "            P[u] = np.linalg.inv(QQ.sum(axis=0) + eps * np.eye(num_dims)) @ RQ[u]\n",
    "\n",
    "        RP = R.T @ P\n",
    "        for i in range(num_items):\n",
    "            relevant_users = user_ids[item_ids == i]\n",
    "            P_rel = P[relevant_users]\n",
    "            PP = P_rel.reshape(-1, num_dims, 1) * P_rel.reshape(-1, 1, num_dims)\n",
    "            Q[i] = np.linalg.inv(PP.sum(axis=0) + eps * np.eye(num_dims)) @ RP[i]\n",
    "    \n",
    "    return P, Q"
   ]
  },
  {
   "cell_type": "code",
   "execution_count": 10,
   "id": "fixed-actress",
   "metadata": {},
   "outputs": [
    {
     "data": {
      "application/vnd.jupyter.widget-view+json": {
       "model_id": "c18685d027a24c0a91a5162db288c342",
       "version_major": 2,
       "version_minor": 0
      },
      "text/plain": [
       "HBox(children=(FloatProgress(value=0.0, max=20.0), HTML(value='')))"
      ]
     },
     "metadata": {},
     "output_type": "display_data"
    },
    {
     "name": "stdout",
     "output_type": "stream",
     "text": [
      "\n"
     ]
    }
   ],
   "source": [
    "P, Q = ALS(train_ratings.userId, train_ratings.movieId, train_ratings.rating, num_users, num_movies, num_iters=20)"
   ]
  },
  {
   "cell_type": "markdown",
   "id": "transparent-independence",
   "metadata": {},
   "source": [
    "Сгенерируем предсказания, посчитав скалярные произведения между векторами пользователей и фильмов."
   ]
  },
  {
   "cell_type": "code",
   "execution_count": 11,
   "id": "coupled-logic",
   "metadata": {},
   "outputs": [],
   "source": [
    "train_preds = (P[train_ratings.userId] * Q[train_ratings.movieId]).sum(axis=1)\n",
    "test_preds = (P[test_ratings.userId] * Q[test_ratings.movieId]).sum(axis=1)\n",
    "test_preds = np.clip(test_preds, 0.5, 5.0)"
   ]
  },
  {
   "cell_type": "code",
   "execution_count": 12,
   "id": "closing-graduate",
   "metadata": {},
   "outputs": [
    {
     "name": "stdout",
     "output_type": "stream",
     "text": [
      "Train R^2: 0.991\n",
      "Test R^2: -2.372\n"
     ]
    }
   ],
   "source": [
    "from sklearn.metrics import r2_score\n",
    "\n",
    "print(f'Train R^2: {r2_score(train_ratings.rating, train_preds):.3f}')\n",
    "print(f'Test R^2: {r2_score(test_ratings.rating, test_preds):.3f}')"
   ]
  },
  {
   "cell_type": "markdown",
   "id": "naughty-attention",
   "metadata": {},
   "source": [
    "Результаты получились весьма удручающими. Но не будем забывать, что нас интересует рекомендация фильмов, а не предсказание точно рейтинга. Поэтому упорядочим фильмы по предсказанной релевантности (значение скалярного произведения) и посчитаем метрику для ранжирования &mdash; MAP@k. Для сравнения рассмотрим еще два алгоритма &mdash; случайный (ранжирует фильмы в произвольном порядке) и алгоритм, возвращающий топ рейтинга фильмов."
   ]
  },
  {
   "cell_type": "code",
   "execution_count": 13,
   "id": "rolled-olympus",
   "metadata": {},
   "outputs": [],
   "source": [
    "test_relevant = []\n",
    "for user_id, user_data in test_ratings[test_ratings.rating >= 4.0].groupby('userId'):\n",
    "    test_relevant += [user_data.movieId.tolist()]"
   ]
  },
  {
   "cell_type": "code",
   "execution_count": 14,
   "id": "fiscal-throw",
   "metadata": {},
   "outputs": [],
   "source": [
    "def remove_train_items(preds, k):\n",
    "    new_preds = np.zeros((preds.shape[0], k), dtype=np.int)\n",
    "    for user_id, user_data in train_ratings.groupby('userId'):\n",
    "        user_preds = preds[user_id]\n",
    "        new_preds[user_id] = user_preds[~np.in1d(user_preds, user_data.movieId)][:k]\n",
    "    \n",
    "    return new_preds\n",
    "\n",
    "\n",
    "def ALS_prediction(P, Q, k=10):\n",
    "    preds = np.argsort(P @ Q.T, axis=1)\n",
    "    preds = remove_train_items(preds, k)\n",
    "    return preds\n",
    "\n",
    "\n",
    "def random_prediction(k=10):\n",
    "    preds = np.tile(np.arange(num_movies), (num_users, 1))\n",
    "    for i in range(num_users):\n",
    "        rand_perm = np.random.permutation(num_movies)\n",
    "        preds[i] = preds[i][rand_perm]\n",
    "\n",
    "    preds = remove_train_items(preds, k)\n",
    "    return preds\n",
    "\n",
    "\n",
    "def top_prediction(freq_thr=10, k=10):\n",
    "    mean_rating = train_ratings.groupby('movieId').rating.mean()\n",
    "    mean_rating = mean_rating[train_ratings.groupby('movieId').size() >= freq_thr]\n",
    "    preds = np.array(mean_rating.sort_values(ascending=False).index)\n",
    "    preds = np.tile(preds, (num_users, 1))\n",
    "    preds = remove_train_items(preds, k)\n",
    "    return preds\n",
    "\n",
    "\n",
    "def MAPk(y_true, y_pred, k=10):\n",
    "    map_k, count = 0, 0\n",
    "    for relevant_items, predicted_items in zip(y_true, y_pred):\n",
    "        if not relevant_items:\n",
    "            continue\n",
    "        \n",
    "        correct = np.isin(predicted_items[:k], relevant_items)\n",
    "        map_k += (correct / np.arange(1, k + 1)).sum() / \\\n",
    "            (1 / np.arange(1, len(relevant_items) + 1)).sum()\n",
    "        count += 1\n",
    "    \n",
    "    map_k = map_k / count\n",
    "    return map_k"
   ]
  },
  {
   "cell_type": "markdown",
   "id": "solved-withdrawal",
   "metadata": {},
   "source": [
    "Посчитаем значение MAP@k для разных значений k."
   ]
  },
  {
   "cell_type": "code",
   "execution_count": 15,
   "id": "straight-volunteer",
   "metadata": {},
   "outputs": [],
   "source": [
    "ks = np.arange(1, 51)\n",
    "als_preds = ALS_prediction(P, Q, k=ks[-1])\n",
    "random_preds = random_prediction(k=ks[-1])\n",
    "top_preds = top_prediction(freq_thr=10, k=ks[-1])\n",
    "\n",
    "random_mapk = [MAPk(test_relevant, random_preds, k=k) for k in ks]\n",
    "top_mapk = [MAPk(test_relevant, top_preds, k=k) for k in ks]\n",
    "als_mapk = [MAPk(test_relevant, als_preds, k=k) for k in ks]"
   ]
  },
  {
   "cell_type": "code",
   "execution_count": 16,
   "id": "serious-aluminum",
   "metadata": {},
   "outputs": [
    {
     "data": {
      "image/png": "[encoded data removed]",
      "text/plain": [
       "<Figure size 720x432 with 1 Axes>"
      ]
     },
     "metadata": {
      "needs_background": "light"
     },
     "output_type": "display_data"
    }
   ],
   "source": [
    "plt.figure(figsize=(10, 6))\n",
    "plt.plot(ks, random_mapk, label='Random')\n",
    "plt.plot(ks, top_mapk, label='Top rating')\n",
    "plt.plot(ks, als_mapk, label='ALS')\n",
    "\n",
    "plt.legend(title='method')\n",
    "plt.xlabel('k')\n",
    "plt.ylabel('MAP@k')\n",
    "plt.show()"
   ]
  },
  {
   "cell_type": "markdown",
   "id": "tired-melissa",
   "metadata": {},
   "source": [
    "Что ж, даже небольшого числа данных хватило, чтобы обойти бейзлайн с предсказанием топа рейтинга. Померяем также две метрики, которые характеризуют разнообразность предсказаний: *coverage* &mdash; доля фильмов из базы, которые в принципе рекомендуются и *personalization* &mdash; среднее косинусное расстояние между бинарными векторами рекомендаций для разных пользователей."
   ]
  },
  {
   "cell_type": "code",
   "execution_count": 17,
   "id": "executive-feeling",
   "metadata": {},
   "outputs": [],
   "source": [
    "from sklearn.metrics.pairwise import cosine_similarity\n",
    "\n",
    "\n",
    "def coverage(preds):\n",
    "    return np.unique(preds.flatten()).size / num_movies\n",
    "\n",
    "\n",
    "def personalization(preds):\n",
    "    N = preds.shape[0]\n",
    "    ohe_matrix = np.zeros((N, num_movies))\n",
    "    ohe_matrix[np.arange(N).repeat(preds.shape[1]), preds.reshape(-1)] = 1.\n",
    "    sim_matrix = cosine_similarity(ohe_matrix)\n",
    "    return 1 - (sim_matrix.sum() - N) / (N * (N - 1))"
   ]
  },
  {
   "cell_type": "code",
   "execution_count": 18,
   "id": "nasty-prairie",
   "metadata": {},
   "outputs": [
    {
     "name": "stdout",
     "output_type": "stream",
     "text": [
      "Random coverage: 0.9766\n",
      "Top rating coverage: 0.0171\n",
      "ALS coverage: 0.1627\n"
     ]
    }
   ],
   "source": [
    "print(f'Random coverage: {coverage(random_preds):.4f}')\n",
    "print(f'Top rating coverage: {coverage(top_preds):.4f}')\n",
    "print(f'ALS coverage: {coverage(als_preds):.4f}')"
   ]
  },
  {
   "cell_type": "code",
   "execution_count": 19,
   "id": "affected-ranking",
   "metadata": {},
   "outputs": [
    {
     "name": "stdout",
     "output_type": "stream",
     "text": [
      "Random personalization: 0.9945\n",
      "Top rating personalization: 0.1048\n",
      "ALS personalization: 0.8516\n"
     ]
    }
   ],
   "source": [
    "print(f'Random personalization: {personalization(random_preds):.4f}')\n",
    "print(f'Top rating personalization: {personalization(top_preds):.4f}')\n",
    "print(f'ALS personalization: {personalization(als_preds):.4f}')"
   ]
  },
  {
   "cell_type": "markdown",
   "id": "executive-metabolism",
   "metadata": {},
   "source": [
    "Как мы видим, лучшим разнообразием обладает случайный алгоритм (как неожиданно!). Впрочем, ALS показывает относительно неплохой уровень personalization, что означает, что мы действительно построили *рекомендательную* систему. Кроме того, можем попробовать использовать обученные векторы фильмов, чтобы выдавать фильмы, похожие на данные запрос, например:"
   ]
  },
  {
   "cell_type": "code",
   "execution_count": 20,
   "id": "accurate-marker",
   "metadata": {},
   "outputs": [
    {
     "name": "stdout",
     "output_type": "stream",
     "text": [
      "Iron Man: 1.000\n",
      "The Patriot: 0.117\n",
      "WALL·E: 0.335\n",
      "The Sound of Music: 0.241\n",
      "Young Frankenstein: 0.190\n",
      "Butch Cassidy and the Sundance Kid: 0.185\n",
      "Enemy of the State: 0.206\n",
      "The Rocky Horror Picture Show: 0.177\n",
      "Pleasantville: 0.286\n",
      "Mary Poppins: 0.066\n",
      "M*A*S*H: 0.296\n",
      "In the Line of Fire: 0.198\n",
      "The English Patient: 0.065\n",
      "Grosse Pointe Blank: 0.133\n",
      "Addams Family Values: 0.203\n",
      "Casino Royale: 0.336\n",
      "The Little Mermaid: 0.198\n",
      "Air Force One: 0.200\n",
      "Ice Age: 0.225\n",
      "The Blues Brothers: 0.207\n"
     ]
    }
   ],
   "source": [
    "example_movieId = ratings[ratings.title=='Iron Man'].iloc[0].movieId\n",
    "scores = Q @ Q[example_movieId]\n",
    "similar_movies = np.argsort(-scores)[:20]\n",
    "\n",
    "for movieId in similar_movies:\n",
    "    normalized_score = scores[movieId] / np.linalg.norm(Q[example_movieId]) / np.linalg.norm(Q[movieId])\n",
    "    print(f'{ratings[ratings.movieId == movieId].iloc[0].title}: {normalized_score:.3f}')"
   ]
  },
  {
   "cell_type": "code",
   "execution_count": null,
   "id": "comic-attention",
   "metadata": {},
   "outputs": [],
   "source": []
  }
 ],
 "metadata": {
  "kernelspec": {
   "display_name": "Python [conda env:al]",
   "language": "python",
   "name": "conda-env-al-py"
  },
  "language_info": {
   "codemirror_mode": {
    "name": "ipython",
    "version": 3
   },
   "file_extension": ".py",
   "mimetype": "text/x-python",
   "name": "python",
   "nbconvert_exporter": "python",
   "pygments_lexer": "ipython3",
   "version": "3.9.12"
  },
  "varInspector": {
   "cols": {
    "lenName": 16,
    "lenType": 16,
    "lenVar": 40
   },
   "kernels_config": {
    "python": {
     "delete_cmd_postfix": "",
     "delete_cmd_prefix": "del ",
     "library": "var_list.py",
     "varRefreshCmd": "print(var_dic_list())"
    },
    "r": {
     "delete_cmd_postfix": ") ",
     "delete_cmd_prefix": "rm(",
     "library": "var_list.r",
     "varRefreshCmd": "cat(var_dic_list()) "
    }
   },
   "types_to_exclude": [
    "module",
    "function",
    "builtin_function_or_method",
    "instance",
    "_Feature"
   ],
   "window_display": false
  }
 },
 "nbformat": 4,
 "nbformat_minor": 5
}
