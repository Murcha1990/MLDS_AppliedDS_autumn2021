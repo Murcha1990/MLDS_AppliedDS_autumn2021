{
 "cells": [
  {
   "cell_type": "markdown",
   "metadata": {},
   "source": [
    "## PCA"
   ]
  },
  {
   "cell_type": "code",
   "execution_count": 1,
   "metadata": {
    "ExecuteTime": {
     "end_time": "2021-01-25T09:12:03.142519Z",
     "start_time": "2021-01-25T09:12:02.184648Z"
    }
   },
   "outputs": [],
   "source": [
    "import numpy as np\n",
    "from numpy import linalg as lng\n",
    "from sklearn.decomposition import PCA"
   ]
  },
  {
   "cell_type": "code",
   "execution_count": 2,
   "metadata": {
    "ExecuteTime": {
     "end_time": "2021-01-25T09:12:03.163159Z",
     "start_time": "2021-01-25T09:12:03.155478Z"
    }
   },
   "outputs": [
    {
     "data": {
      "text/plain": [
       "array([[2, 3, 4],\n",
       "       [3, 1, 4],\n",
       "       [7, 8, 1],\n",
       "       [2, 1, 8]])"
      ]
     },
     "execution_count": 2,
     "metadata": {},
     "output_type": "execute_result"
    }
   ],
   "source": [
    "X = np.array([[2, 3, 7, 2], [3, 1, 8, 1], [4, 4, 1, 8]]).T\n",
    "X"
   ]
  },
  {
   "cell_type": "code",
   "execution_count": 3,
   "metadata": {
    "ExecuteTime": {
     "end_time": "2021-01-25T09:12:03.945961Z",
     "start_time": "2021-01-25T09:12:03.942049Z"
    },
    "scrolled": true
   },
   "outputs": [
    {
     "data": {
      "text/plain": [
       "array([[-1.5 , -0.25, -0.25],\n",
       "       [-0.5 , -2.25, -0.25],\n",
       "       [ 3.5 ,  4.75, -3.25],\n",
       "       [-1.5 , -2.25,  3.75]])"
      ]
     },
     "execution_count": 3,
     "metadata": {},
     "output_type": "execute_result"
    }
   ],
   "source": [
    "Z = X - np.mean(X, axis=0)\n",
    "Z"
   ]
  },
  {
   "cell_type": "code",
   "execution_count": 4,
   "metadata": {
    "ExecuteTime": {
     "end_time": "2021-01-25T09:12:04.121978Z",
     "start_time": "2021-01-25T09:12:04.113727Z"
    }
   },
   "outputs": [
    {
     "data": {
      "text/plain": [
       "array([[ 17.  ,  21.5 , -16.5 ],\n",
       "       [ 21.5 ,  32.75, -23.25],\n",
       "       [-16.5 , -23.25,  24.75]])"
      ]
     },
     "execution_count": 4,
     "metadata": {},
     "output_type": "execute_result"
    }
   ],
   "source": [
    "cov = Z.T @ Z\n",
    "cov"
   ]
  },
  {
   "cell_type": "code",
   "execution_count": 5,
   "metadata": {
    "ExecuteTime": {
     "end_time": "2021-01-25T09:12:04.273927Z",
     "start_time": "2021-01-25T09:12:04.266681Z"
    }
   },
   "outputs": [
    {
     "data": {
      "text/plain": [
       "(array([67.0063785 ,  1.96944485,  5.52417665]),\n",
       " array([[ 0.47626211,  0.83356121,  0.27991089],\n",
       "        [ 0.67850508, -0.55086348,  0.48598383],\n",
       "        [-0.55928995,  0.04153473,  0.82793092]]))"
      ]
     },
     "execution_count": 5,
     "metadata": {},
     "output_type": "execute_result"
    }
   ],
   "source": [
    "vals, vects = lng.eig(cov)\n",
    "vals, vects"
   ]
  },
  {
   "cell_type": "code",
   "execution_count": 6,
   "metadata": {
    "ExecuteTime": {
     "end_time": "2021-01-25T09:12:05.099877Z",
     "start_time": "2021-01-25T09:12:05.094782Z"
    }
   },
   "outputs": [
    {
     "name": "stdout",
     "output_type": "stream",
     "text": [
      "67.00637849713772 5.524176651329199 1.9694448515330876\n"
     ]
    },
    {
     "data": {
      "text/plain": [
       "array([[ 0.47626211,  0.27991089],\n",
       "       [ 0.67850508,  0.48598383],\n",
       "       [-0.55928995,  0.82793092]])"
      ]
     },
     "execution_count": 6,
     "metadata": {},
     "output_type": "execute_result"
    }
   ],
   "source": [
    "print(*reversed(sorted(vals)))\n",
    "# ¡vectors are columns, not strings!\n",
    "ord_vects = vects[:, np.argsort(vals)[::-1][:-1]]\n",
    "ord_vects"
   ]
  },
  {
   "cell_type": "code",
   "execution_count": 7,
   "metadata": {
    "ExecuteTime": {
     "end_time": "2021-01-25T09:12:07.403078Z",
     "start_time": "2021-01-25T09:12:07.399422Z"
    }
   },
   "outputs": [
    {
     "data": {
      "text/plain": [
       "array([[-0.74419695, -0.74834502],\n",
       "       [-1.624945  , -1.44040179],\n",
       "       [ 6.70750889,  0.59733579],\n",
       "       [-4.33836693,  1.59141101]])"
      ]
     },
     "execution_count": 7,
     "metadata": {},
     "output_type": "execute_result"
    }
   ],
   "source": [
    "Z @ ord_vects"
   ]
  },
  {
   "cell_type": "code",
   "execution_count": 8,
   "metadata": {
    "ExecuteTime": {
     "end_time": "2021-01-25T09:12:07.576275Z",
     "start_time": "2021-01-25T09:12:07.571453Z"
    }
   },
   "outputs": [
    {
     "data": {
      "text/plain": [
       "(22.335459499045907, 1.841392217109733, 0.8994144764716472, 0.0741500221654926)"
      ]
     },
     "execution_count": 8,
     "metadata": {},
     "output_type": "execute_result"
    }
   ],
   "source": [
    "# explained variance (absolute and ratio)\n",
    "max(vals) / len(vals), vals[np.argsort(vals)][-2] / len(vals), max(vals) / sum(vals), vals[np.argsort(vals)][-2] / sum(vals)"
   ]
  },
  {
   "cell_type": "code",
   "execution_count": 9,
   "metadata": {},
   "outputs": [
    {
     "data": {
      "text/plain": [
       "0.9735644986371398"
      ]
     },
     "execution_count": 9,
     "metadata": {},
     "output_type": "execute_result"
    }
   ],
   "source": [
    "(67.00637849713772 + 5.524176651329199) / (67.00637849713772 + 5.524176651329199 + 1.9694448515330876)"
   ]
  },
  {
   "cell_type": "code",
   "execution_count": 10,
   "metadata": {
    "ExecuteTime": {
     "end_time": "2021-01-25T09:12:07.717088Z",
     "start_time": "2021-01-25T09:12:07.710506Z"
    }
   },
   "outputs": [
    {
     "data": {
      "text/plain": [
       "array([[-0.74419695, -0.74834502],\n",
       "       [-1.624945  , -1.44040179],\n",
       "       [ 6.70750889,  0.59733579],\n",
       "       [-4.33836693,  1.59141101]])"
      ]
     },
     "execution_count": 10,
     "metadata": {},
     "output_type": "execute_result"
    }
   ],
   "source": [
    "pca = PCA(2)\n",
    "pca.fit_transform(X)"
   ]
  },
  {
   "cell_type": "code",
   "execution_count": 11,
   "metadata": {
    "ExecuteTime": {
     "end_time": "2021-01-25T09:12:07.880950Z",
     "start_time": "2021-01-25T09:12:07.876957Z"
    }
   },
   "outputs": [
    {
     "data": {
      "text/plain": [
       "(array([22.3354595 ,  1.84139222]),\n",
       " array([0.89941448, 0.07415002]),\n",
       " array([[ 0.47626211,  0.67850508, -0.55928995],\n",
       "        [ 0.27991089,  0.48598383,  0.82793092]]))"
      ]
     },
     "execution_count": 11,
     "metadata": {},
     "output_type": "execute_result"
    }
   ],
   "source": [
    "pca.explained_variance_, pca.explained_variance_ratio_, pca.components_"
   ]
  },
  {
   "cell_type": "markdown",
   "metadata": {},
   "source": [
    "## SVD"
   ]
  },
  {
   "cell_type": "code",
   "execution_count": 3,
   "metadata": {},
   "outputs": [],
   "source": [
    "np.set_printoptions(suppress=True)"
   ]
  },
  {
   "cell_type": "code",
   "execution_count": 4,
   "metadata": {
    "ExecuteTime": {
     "end_time": "2021-01-25T09:12:12.412156Z",
     "start_time": "2021-01-25T09:12:12.409059Z"
    }
   },
   "outputs": [
    {
     "data": {
      "text/plain": [
       "array([[2, 3, 4],\n",
       "       [3, 1, 4],\n",
       "       [7, 8, 1],\n",
       "       [2, 1, 8]])"
      ]
     },
     "execution_count": 4,
     "metadata": {},
     "output_type": "execute_result"
    }
   ],
   "source": [
    "X"
   ]
  },
  {
   "cell_type": "code",
   "execution_count": 5,
   "metadata": {
    "ExecuteTime": {
     "end_time": "2021-01-25T09:12:12.547906Z",
     "start_time": "2021-01-25T09:12:12.544299Z"
    }
   },
   "outputs": [
    {
     "data": {
      "text/plain": [
       "array([[ 29,  25,  42,  39],\n",
       "       [ 25,  26,  33,  39],\n",
       "       [ 42,  33, 114,  30],\n",
       "       [ 39,  39,  30,  69]])"
      ]
     },
     "execution_count": 5,
     "metadata": {},
     "output_type": "execute_result"
    }
   ],
   "source": [
    "mult = X @ X.T\n",
    "mult"
   ]
  },
  {
   "cell_type": "code",
   "execution_count": 6,
   "metadata": {
    "ExecuteTime": {
     "end_time": "2021-01-25T09:12:13.073734Z",
     "start_time": "2021-01-25T09:12:13.070077Z"
    }
   },
   "outputs": [
    {
     "data": {
      "text/plain": [
       "array([[66, 67, 43],\n",
       "       [67, 75, 32],\n",
       "       [43, 32, 97]])"
      ]
     },
     "execution_count": 6,
     "metadata": {},
     "output_type": "execute_result"
    }
   ],
   "source": [
    "cov = X.T @ X\n",
    "cov"
   ]
  },
  {
   "cell_type": "code",
   "execution_count": 7,
   "metadata": {
    "ExecuteTime": {
     "end_time": "2021-01-25T09:12:13.230802Z",
     "start_time": "2021-01-25T09:12:13.226345Z"
    }
   },
   "outputs": [
    {
     "data": {
      "text/plain": [
       "(array([174.02054492,   2.12198065,  61.85747443]),\n",
       " array([[-0.58519009, -0.75739868, -0.28965463],\n",
       "        [-0.57931925,  0.64043083, -0.50421975],\n",
       "        [-0.56739912,  0.12726189,  0.81354941]]))"
      ]
     },
     "execution_count": 7,
     "metadata": {},
     "output_type": "execute_result"
    }
   ],
   "source": [
    "vals_v, vects_v = lng.eig(cov)\n",
    "vals_v, vects_v"
   ]
  },
  {
   "cell_type": "code",
   "execution_count": 17,
   "metadata": {
    "ExecuteTime": {
     "end_time": "2021-01-25T09:12:13.700942Z",
     "start_time": "2021-01-25T09:12:13.696637Z"
    }
   },
   "outputs": [
    {
     "data": {
      "text/plain": [
       "(array([174.02054492,  61.85747443,  -0.        ,   2.12198065]),\n",
       " array([[ 0.39251502,  0.1477732 ,  0.65504047,  0.6285038 ],\n",
       "        [ 0.34904458,  0.23916407,  0.47639307, -0.77072568],\n",
       "        [ 0.70485946, -0.66723748, -0.23819653, -0.035067  ],\n",
       "        [ 0.47673156,  0.68975196, -0.5359422 ,  0.09866715]]))"
      ]
     },
     "execution_count": 17,
     "metadata": {},
     "output_type": "execute_result"
    }
   ],
   "source": [
    "vals, vects_u = lng.eig(mult)\n",
    "vals, vects_u"
   ]
  },
  {
   "cell_type": "code",
   "execution_count": 18,
   "metadata": {
    "ExecuteTime": {
     "end_time": "2021-01-25T09:12:13.848595Z",
     "start_time": "2021-01-25T09:12:13.843954Z"
    }
   },
   "outputs": [
    {
     "data": {
      "text/plain": [
       "array([[13.19168469,  0.        ,  0.        ],\n",
       "       [ 0.        ,  7.86495228,  0.        ],\n",
       "       [ 0.        ,  0.        ,  1.45670198],\n",
       "       [ 0.        ,  0.        ,  0.        ]])"
      ]
     },
     "execution_count": 18,
     "metadata": {},
     "output_type": "execute_result"
    }
   ],
   "source": [
    "# for having python unprecise after the 16th number, convert to 0 all that became negative\n",
    "sigma = np.diag(np.sqrt(np.maximum(0, list(reversed(sorted(vals))))))[:X.shape[0], :X.shape[1]]\n",
    "sigma"
   ]
  },
  {
   "cell_type": "code",
   "execution_count": 19,
   "metadata": {
    "ExecuteTime": {
     "end_time": "2021-01-25T09:12:13.985296Z",
     "start_time": "2021-01-25T09:12:13.981246Z"
    }
   },
   "outputs": [
    {
     "data": {
      "text/plain": [
       "array([[ 0.39251502,  0.1477732 ,  0.6285038 ,  0.65504047],\n",
       "       [ 0.34904458,  0.23916407, -0.77072568,  0.47639307],\n",
       "       [ 0.70485946, -0.66723748, -0.035067  , -0.23819653],\n",
       "       [ 0.47673156,  0.68975196,  0.09866715, -0.5359422 ]])"
      ]
     },
     "execution_count": 19,
     "metadata": {},
     "output_type": "execute_result"
    }
   ],
   "source": [
    "U = vects_u[:, np.argsort(vals)[::-1]]\n",
    "U"
   ]
  },
  {
   "cell_type": "code",
   "execution_count": 20,
   "metadata": {
    "ExecuteTime": {
     "end_time": "2021-01-25T09:12:15.054841Z",
     "start_time": "2021-01-25T09:12:15.050881Z"
    }
   },
   "outputs": [
    {
     "data": {
      "text/plain": [
       "array([[-0.58519009, -0.57931925, -0.56739912],\n",
       "       [-0.28965463, -0.50421975,  0.81354941],\n",
       "       [-0.75739868,  0.64043083,  0.12726189]])"
      ]
     },
     "execution_count": 20,
     "metadata": {},
     "output_type": "execute_result"
    }
   ],
   "source": [
    "Vt = vects_v[:, np.argsort(vals_v)[::-1]].T\n",
    "Vt"
   ]
  },
  {
   "cell_type": "code",
   "execution_count": 21,
   "metadata": {
    "ExecuteTime": {
     "end_time": "2021-01-25T09:12:15.433614Z",
     "start_time": "2021-01-25T09:12:15.428972Z"
    }
   },
   "outputs": [
    {
     "data": {
      "text/plain": [
       "(array([[ 5.17793443,  1.16222915,  0.91554272],\n",
       "        [ 4.60448601,  1.88101401, -1.12271762],\n",
       "        [ 9.29828374, -5.24779097, -0.05108217],\n",
       "        [ 6.28889243,  5.42486628,  0.14372863]]),\n",
       " array([[ 5.17793443,  1.16222915,  0.91554272],\n",
       "        [ 4.60448601,  1.88101401, -1.12271762],\n",
       "        [ 9.29828374, -5.24779097, -0.05108217],\n",
       "        [ 6.28889243,  5.42486628,  0.14372863]]))"
      ]
     },
     "execution_count": 21,
     "metadata": {},
     "output_type": "execute_result"
    }
   ],
   "source": [
    "X @ Vt.T, U @ sigma\n",
    "Vt *= np.transpose([[-1, 1, 1]])\n",
    "X @ Vt.T, U @ sigma"
   ]
  },
  {
   "cell_type": "code",
   "execution_count": 22,
   "metadata": {
    "ExecuteTime": {
     "end_time": "2021-01-25T09:12:15.982149Z",
     "start_time": "2021-01-25T09:12:15.978263Z"
    }
   },
   "outputs": [
    {
     "data": {
      "text/plain": [
       "True"
      ]
     },
     "execution_count": 22,
     "metadata": {},
     "output_type": "execute_result"
    }
   ],
   "source": [
    "np.allclose(X.T @ U, Vt.T @ sigma.T)"
   ]
  },
  {
   "cell_type": "code",
   "execution_count": 26,
   "metadata": {},
   "outputs": [
    {
     "data": {
      "text/plain": [
       "(array([[-0.39251502,  0.1477732 , -0.6285038 , -0.65504047],\n",
       "        [-0.34904458,  0.23916407,  0.77072568, -0.47639307],\n",
       "        [-0.70485946, -0.66723748,  0.035067  ,  0.23819653],\n",
       "        [-0.47673156,  0.68975196, -0.09866715,  0.5359422 ]]),\n",
       " array([13.19168469,  7.86495228,  1.45670198]),\n",
       " array([[-0.58519009, -0.57931925, -0.56739912],\n",
       "        [-0.28965463, -0.50421975,  0.81354941],\n",
       "        [ 0.75739868, -0.64043083, -0.12726189]]))"
      ]
     },
     "execution_count": 26,
     "metadata": {},
     "output_type": "execute_result"
    }
   ],
   "source": [
    "lng.svd(X)"
   ]
  },
  {
   "cell_type": "code",
   "execution_count": 23,
   "metadata": {
    "ExecuteTime": {
     "end_time": "2021-01-25T09:12:17.881212Z",
     "start_time": "2021-01-25T09:12:17.877281Z"
    }
   },
   "outputs": [
    {
     "data": {
      "text/plain": [
       "(array([[ 0.39251502,  0.1477732 ,  0.6285038 ,  0.65504047],\n",
       "        [ 0.34904458,  0.23916407, -0.77072568,  0.47639307],\n",
       "        [ 0.70485946, -0.66723748, -0.035067  , -0.23819653],\n",
       "        [ 0.47673156,  0.68975196,  0.09866715, -0.5359422 ]]),\n",
       " array([[13.19168469,  0.        ,  0.        ],\n",
       "        [ 0.        ,  7.86495228,  0.        ],\n",
       "        [ 0.        ,  0.        ,  1.45670198],\n",
       "        [ 0.        ,  0.        ,  0.        ]]),\n",
       " array([[ 0.58519009,  0.57931925,  0.56739912],\n",
       "        [-0.28965463, -0.50421975,  0.81354941],\n",
       "        [-0.75739868,  0.64043083,  0.12726189]]))"
      ]
     },
     "execution_count": 23,
     "metadata": {},
     "output_type": "execute_result"
    }
   ],
   "source": [
    "U, sigma, Vt"
   ]
  },
  {
   "cell_type": "code",
   "execution_count": 17,
   "metadata": {
    "ExecuteTime": {
     "end_time": "2021-01-25T09:12:19.113253Z",
     "start_time": "2021-01-25T09:12:19.109394Z"
    }
   },
   "outputs": [
    {
     "data": {
      "text/plain": [
       "array([[2., 3., 4.],\n",
       "       [3., 1., 4.],\n",
       "       [7., 8., 1.],\n",
       "       [2., 1., 8.]])"
      ]
     },
     "execution_count": 17,
     "metadata": {},
     "output_type": "execute_result"
    }
   ],
   "source": [
    "U @ sigma @ Vt"
   ]
  },
  {
   "cell_type": "code",
   "execution_count": 27,
   "metadata": {
    "ExecuteTime": {
     "end_time": "2021-01-25T09:12:43.900355Z",
     "start_time": "2021-01-25T09:12:43.896649Z"
    }
   },
   "outputs": [
    {
     "data": {
      "text/plain": [
       "array([[ 1.00000000e+00, -1.78165618e-16, -6.58294453e-16],\n",
       "       [-1.78165618e-16,  1.00000000e+00, -1.49243978e-16],\n",
       "       [-6.58294453e-16, -1.49243978e-16,  1.00000000e+00]])"
      ]
     },
     "execution_count": 27,
     "metadata": {},
     "output_type": "execute_result"
    }
   ],
   "source": [
    "Vt @ Vt.T"
   ]
  },
  {
   "cell_type": "code",
   "execution_count": 28,
   "metadata": {
    "ExecuteTime": {
     "end_time": "2021-01-25T09:18:36.389145Z",
     "start_time": "2021-01-25T09:18:36.364154Z"
    }
   },
   "outputs": [
    {
     "data": {
      "text/plain": [
       "array([[ 1.00000000e+00,  1.38190060e-16,  2.84550011e-16],\n",
       "       [ 1.38190060e-16,  1.00000000e+00, -3.86088011e-16],\n",
       "       [ 2.84550011e-16, -3.86088011e-16,  1.00000000e+00]])"
      ]
     },
     "execution_count": 28,
     "metadata": {},
     "output_type": "execute_result"
    }
   ],
   "source": [
    "Vt.T @ Vt"
   ]
  },
  {
   "cell_type": "code",
   "execution_count": null,
   "metadata": {},
   "outputs": [],
   "source": []
  }
 ],
 "metadata": {
  "kernelspec": {
   "display_name": "Python 3",
   "language": "python",
   "name": "python3"
  },
  "language_info": {
   "codemirror_mode": {
    "name": "ipython",
    "version": 3
   },
   "file_extension": ".py",
   "mimetype": "text/x-python",
   "name": "python",
   "nbconvert_exporter": "python",
   "pygments_lexer": "ipython3",
   "version": "3.8.8"
  },
  "nbTranslate": {
   "displayLangs": [
    "*"
   ],
   "hotkey": "alt-t",
   "langInMainMenu": true,
   "sourceLang": "en",
   "targetLang": "fr",
   "useGoogleTranslate": true
  },
  "toc": {
   "base_numbering": 1,
   "nav_menu": {},
   "number_sections": true,
   "sideBar": true,
   "skip_h1_title": false,
   "title_cell": "Table of Contents",
   "title_sidebar": "Contents",
   "toc_cell": false,
   "toc_position": {},
   "toc_section_display": true,
   "toc_window_display": false
  },
  "varInspector": {
   "cols": {
    "lenName": 16,
    "lenType": 16,
    "lenVar": 40
   },
   "kernels_config": {
    "python": {
     "delete_cmd_postfix": "",
     "delete_cmd_prefix": "del ",
     "library": "var_list.py",
     "varRefreshCmd": "print(var_dic_list())"
    },
    "r": {
     "delete_cmd_postfix": ") ",
     "delete_cmd_prefix": "rm(",
     "library": "var_list.r",
     "varRefreshCmd": "cat(var_dic_list()) "
    }
   },
   "types_to_exclude": [
    "module",
    "function",
    "builtin_function_or_method",
    "instance",
    "_Feature"
   ],
   "window_display": false
  }
 },
 "nbformat": 4,
 "nbformat_minor": 4
}
