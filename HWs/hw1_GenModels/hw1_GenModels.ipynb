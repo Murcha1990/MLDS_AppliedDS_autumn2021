{
  "cells": [
    {
      "cell_type": "markdown",
      "metadata": {
        "id": "u56bicWoYNya"
      },
      "source": [
        "<h2><center>Домашнее задание 1: GAN vs VAE vs NF</center></h2>"
      ]
    },
    {
      "cell_type": "markdown",
      "metadata": {
        "id": "S2B6LMqGYNye"
      },
      "source": [
        "# Введение"
      ]
    },
    {
      "cell_type": "markdown",
      "metadata": {
        "id": "lijgJj6KYNyf"
      },
      "source": [
        "## MAGIC – Major Atmospheric Gamma Imaging Cherenkov Telescope"
      ]
    },
    {
      "cell_type": "markdown",
      "metadata": {
        "id": "O7HXegrkYNyf"
      },
      "source": [
        "MAGIC (Major Atmospheric Gamma Imaging Cherenkov) - это система, состоящая из двух черенковских телескопов диаметром 17 м. Они предназначены для наблюдения гамма-лучей от галактических и внегалактических источников в диапазоне очень высоких энергий (от 30 ГэВ до 100 ТэВ). \n",
        "\n",
        "Телескопами MAGIC в настоящее время управляют около 165 астрофизиков из 24 организаций и консорциумов из 12 стран. MAGIC позволил открыть и исследовать новые классы источников гамма-излучения, таких как, например, пульсары и гамма-всплески (GRB).\n",
        "\n",
        "<center><img src=\"img/magic1.jpg\" width=\"1000\"></center>\n",
        "\n",
        "Источник: https://magic.mpp.mpg.de/\n",
        "\n",
        "Youtube video: https://youtu.be/mjcDSR2vSU8"
      ]
    },
    {
      "cell_type": "markdown",
      "metadata": {
        "id": "v2W4dyDWYNyg"
      },
      "source": [
        "## Частицы из космоса"
      ]
    },
    {
      "cell_type": "markdown",
      "metadata": {
        "id": "p2y5RngLYNyg"
      },
      "source": [
        "Космические частицы, $\\gamma$-кванты (фотоны) и адроны (протоны), взаимодействуют с атмосферой и порождают ливни вторичных частиц. Двигаясь с околосветовой скоростью, эти частицы излучают Черенковское излучение. Телескопы фотографируют это излучение. По фотографиям можно определить тип частицы из космоса: фотон или протон.\n",
        "\n",
        "<center><img src=\"img/shower.jpg\" width=\"500\"></center>"
      ]
    },
    {
      "cell_type": "markdown",
      "metadata": {
        "id": "Xm5NauQZYNyh"
      },
      "source": [
        "## Фотографии"
      ]
    },
    {
      "cell_type": "markdown",
      "metadata": {
        "id": "XLDihXmZYNyh"
      },
      "source": [
        "Задача атмосферного черенковского телескопа - получить изображение ливня путем измерения черенковского света от частиц ливня. Это изображение представляет собой геометрическую проекцию ливня на детектор. Для анализа этих изображений были введены параметры изображения или так называемые параметры Хилласа. Есть два вида параметров изображения: параметры формы и параметры ориентации. (Источник: http://ihp-lx.ethz.ch/Stamet/magic/parameters.html)\n",
        "\n",
        "<center><img src=\"img/geo.jpg\" width=\"400\"></center>"
      ]
    },
    {
      "cell_type": "markdown",
      "metadata": {
        "id": "99CguVW7YNyh"
      },
      "source": [
        "## Фотоны vs адронов"
      ]
    },
    {
      "cell_type": "markdown",
      "metadata": {
        "id": "PdiGWPmIYNyi"
      },
      "source": [
        "Изображения для $\\gamma$-квантов (фотонов) и адронов (протонов) отличаются по форме кластеров. Астрономы используют модели машинного обучения для классификации этих изображений. Для обучения моделей ученые искусственно генерируют такие изображения для каждого типа частиц с помощью сложных физических симуляторов.\n",
        "\n",
        "\n",
        "<center><img src=\"img/gamma_p.png\" width=\"600\"></center>"
      ]
    },
    {
      "cell_type": "markdown",
      "metadata": {
        "id": "_m1ZJQNaYNyi"
      },
      "source": [
        "## Ускорение симуляции"
      ]
    },
    {
      "cell_type": "markdown",
      "metadata": {
        "id": "NB42k-wyYNyi"
      },
      "source": [
        "Сложные физические симуляторы требуют больших вычислительных ресурсов. Они моделируют прилет частиц из космоса, их взаимодействие с атмосферой, рождение ливней, черенковского излучения и работы телескопов для получения изображений. Но мы можем использовать генеративно-состязательные сети для быстрой симуляции!"
      ]
    },
    {
      "cell_type": "code",
      "execution_count": null,
      "metadata": {
        "id": "NS8_k5q5YNyj"
      },
      "outputs": [],
      "source": [
        "%matplotlib inline\n",
        "import matplotlib.pyplot as plt\n",
        "import numpy as np\n",
        "import pandas as pd"
      ]
    },
    {
      "cell_type": "markdown",
      "metadata": {
        "id": "is7fdDW-YNyl"
      },
      "source": [
        "# Данные"
      ]
    },
    {
      "cell_type": "markdown",
      "metadata": {
        "id": "jhIa4sKSYNyl"
      },
      "source": [
        "Будем использовать данные телескопа MAGIC из UCI репозитория https://archive.ics.uci.edu/ml/datasets/MAGIC+Gamma+Telescope. Каждый объект в данных - параметры одного изображения кластера и метка этого кластера (фотон или адрон):\n",
        "\n",
        "\n",
        "0. Length: major axis of ellipse [mm]\n",
        "1. Width: minor axis of ellipse [mm]\n",
        "2. Size: 10-log of sum of content of all pixels [in #phot]\n",
        "3. Conc: ratio of sum of two highest pixels over fSize [ratio]\n",
        "4. Conc1: ratio of highest pixel over fSize [ratio]\n",
        "5. Asym: distance from highest pixel to center, projected onto major axis [mm]\n",
        "6. M3Long: 3rd root of third moment along major axis [mm]\n",
        "7. M3Trans: 3rd root of third moment along minor axis [mm]\n",
        "8. Alpha: angle of major axis with vector to origin [deg]\n",
        "9. Dist: distance from origin to center of ellipse [mm]\n",
        "10. class: g,h # gamma (signal), hadron (background)"
      ]
    },
    {
      "cell_type": "code",
      "execution_count": null,
      "metadata": {
        "id": "75uVLIWlYNyl"
      },
      "outputs": [],
      "source": [
        "# read data\n",
        "names = np.array(['Length', 'Width', 'Size', 'Conc', 'Conc1', 'Asym', 'M3Long', 'M3Trans', 'Alpha', 'Dist', 'class'])\n",
        "data = pd.read_csv(\"data/magic04.data\", header=None)\n",
        "data.columns = names\n",
        "data.head()"
      ]
    },
    {
      "cell_type": "markdown",
      "metadata": {
        "id": "gXFqpBcSYNym"
      },
      "source": [
        "# Постановка задачи\n",
        "\n",
        "Ваша задача заключается в том, чтобы с помощью генеративно-состязательных сетей научится генерировать параметры кластеров на изображениях телекопа для каждого типа частиц (фотона или адрона):\n",
        "\n",
        "- $X$ - матрица реальных объектов, которые нужно начиться генерировать;\n",
        "- $y$ - метки классов, которые будем использовать как условие при генерации."
      ]
    },
    {
      "cell_type": "code",
      "execution_count": null,
      "metadata": {
        "id": "2_zzHL_YYNyo"
      },
      "outputs": [],
      "source": [
        "# параметры кластеров на изображениях\n",
        "X = data[names[:-1]].values\n",
        "X = np.abs(X)\n",
        "\n",
        "# метки классов\n",
        "labels = data[names[-1]].values\n",
        "y = np.ones((len(labels), 1))\n",
        "y[labels == 'h'] = 0"
      ]
    },
    {
      "cell_type": "code",
      "execution_count": null,
      "metadata": {
        "id": "T35F5OgKYNyo"
      },
      "outputs": [],
      "source": [
        "# примеры\n",
        "X[:2]"
      ]
    },
    {
      "cell_type": "code",
      "execution_count": null,
      "metadata": {
        "id": "GgQmnCSeYNyp"
      },
      "outputs": [],
      "source": [
        "# примеры\n",
        "y[:10]"
      ]
    },
    {
      "cell_type": "markdown",
      "metadata": {
        "id": "EQd7NvkzYNyp"
      },
      "source": [
        "# Визуализация данных"
      ]
    },
    {
      "cell_type": "markdown",
      "metadata": {
        "id": "xP9VLzk8YNyp"
      },
      "source": [
        "Каждое изображение описывается 10 параметрами. Давайте построим распделения значений каждого параметра для каждого типа частиц."
      ]
    },
    {
      "cell_type": "code",
      "execution_count": null,
      "metadata": {
        "id": "GtsbKkvJYNyp"
      },
      "outputs": [],
      "source": [
        "def plot_hists(X1, X2, names, label1, label2, bins=np.linspace(-3, 3, 61)):\n",
        "    plt.figure(figsize=(4*4, 4*2))\n",
        "    for i in range(X1.shape[1]):\n",
        "        plt.subplot(3, 4, i+1)\n",
        "        plt.hist(X1[:, i], bins=bins, alpha=0.5, label=label1, color='C0')\n",
        "        plt.hist(X2[:, i], bins=bins, alpha=0.5, label=label2, color='C1')\n",
        "        plt.xlabel(names[i], size=14)\n",
        "        plt.legend(loc='best')\n",
        "    plt.tight_layout()"
      ]
    },
    {
      "cell_type": "code",
      "execution_count": null,
      "metadata": {
        "id": "-pxYTdUXYNyp"
      },
      "outputs": [],
      "source": [
        "plot_hists(X[y[:, 0]==0], X[y[:, 0]==1], names, label1=\"Hadrons\", label2=\"Photons\", bins=50)"
      ]
    },
    {
      "cell_type": "markdown",
      "metadata": {
        "id": "tFpK48zsYNyq"
      },
      "source": [
        "# Предобработка данных"
      ]
    },
    {
      "cell_type": "markdown",
      "metadata": {
        "id": "0rMQUruNYNyq"
      },
      "source": [
        "Из графика видим, что распределения для многих признаков имеют тяжелые хвосты. Это делает обучение генеративных моделей тяжелее. Поэтому, нужно как-то преобразовать данные, чтобы убрать эти тяжелые хвосты. "
      ]
    },
    {
      "cell_type": "markdown",
      "metadata": {
        "id": "DwtLzHiLYNyq"
      },
      "source": [
        "## Задание 1 (1 балл)\n",
        "\n",
        "Используя функцию `sklearn.preprocessing.QuantileTransformer` трансформируйте входные данные `X`. Это преобразование делает так, чтобы распределение каждого параметра было нормальным. Описание функции доступно по ссылке http://scikit-learn.org/stable/modules/generated/sklearn.preprocessing.QuantileTransformer.html. Используйте значение параметра `output_distribution='normal'`. "
      ]
    },
    {
      "cell_type": "code",
      "execution_count": null,
      "metadata": {
        "id": "PGcDGse8YNyq"
      },
      "outputs": [],
      "source": [
        "### YOUR CODE IS HERE ######\n",
        "X_qt = ...\n",
        "### THE END OF YOUR CODE ###"
      ]
    },
    {
      "cell_type": "code",
      "execution_count": null,
      "metadata": {
        "id": "1jlsfc9HYNyr"
      },
      "outputs": [],
      "source": [
        "plot_hists(X_qt[y[:, 0]==0], X_qt[y[:, 0]==1], names, label1=\"Hadrons\", label2=\"Photons\", bins=50)"
      ]
    },
    {
      "cell_type": "markdown",
      "metadata": {
        "id": "Ct-yWqSKYNyr"
      },
      "source": [
        "# Обучающая и тестовая выборки"
      ]
    },
    {
      "cell_type": "code",
      "execution_count": null,
      "metadata": {
        "id": "Ijcb7zHpYNyr"
      },
      "outputs": [],
      "source": [
        "from sklearn.model_selection import train_test_split\n",
        "\n",
        "# train / test split\n",
        "X_train, X_test, y_train, y_test = train_test_split(X_qt, y, stratify=y, test_size=0.5, shuffle=True, random_state=11)"
      ]
    },
    {
      "cell_type": "code",
      "execution_count": null,
      "metadata": {
        "id": "sLWmXsKNYNyr"
      },
      "outputs": [],
      "source": [
        "plot_hists(X_train, X_test, names, label1=\"Train\", label2=\"Test\")"
      ]
    },
    {
      "cell_type": "markdown",
      "metadata": {
        "id": "kkR9eNp5YNys"
      },
      "source": [
        "# Conditional WGAN"
      ]
    },
    {
      "cell_type": "markdown",
      "metadata": {
        "id": "zoQhwzitYNys"
      },
      "source": [
        "Мы будем использовать `Conditional WGAN`, который изображен на рисунке. В качестве условия `y` мы будем использовать метку класса: **0** - адрон, **1** - фотон. Таким образом, мы будем сообщать генератору для какой частицы нужно генерировать параметры изображения. \n",
        "\n",
        "<center><img src=\"img/cgan.png\" width=\"800\"></center>"
      ]
    },
    {
      "cell_type": "markdown",
      "metadata": {
        "id": "Gajh-CHJYNys"
      },
      "source": [
        "Генератор $\\hat{x} = G(z, y)$ будет принимать на вход шумовой вектор $z$ и вектор условий $y$, а выдавать будет сгенерированный (фейковый) вектор параметров $\\hat{x}$. \n",
        "\n",
        "Дискриминатор $D(x, y)$ будет принимать на вход вектор параметров $x$ и вектор условий $y$, а возвращать будет рациональное число.\n",
        "\n",
        "Обучать `Conditional WGAN` будем с такой функцией потерь:\n",
        "\n",
        "$$L(G, D) = -\\frac{1}{n} \\sum_{x_i \\in X, y_i \\in y} D(x_i, y_i) + -\\frac{1}{n} \\sum_{z_i \\in Z, y_i \\in y} D(G(z_i, y_i), y_i) \\to \\max_G \\min_D$$"
      ]
    },
    {
      "cell_type": "code",
      "execution_count": null,
      "metadata": {
        "id": "Vze8GfE_YNys"
      },
      "outputs": [],
      "source": [
        "import torch\n",
        "import torch.nn as nn\n",
        "import torch.nn.functional as F\n",
        "from torch.utils.data import TensorDataset, DataLoader\n",
        "from torch.autograd import Variable\n",
        "\n",
        "DEVICE = torch.device(\"cuda\" if torch.cuda.is_available() else \"cpu\")"
      ]
    },
    {
      "cell_type": "code",
      "execution_count": null,
      "metadata": {
        "id": "CY_vKFRtYNyt"
      },
      "outputs": [],
      "source": [
        "DEVICE"
      ]
    },
    {
      "cell_type": "markdown",
      "metadata": {
        "id": "jy2-d3frYNyt"
      },
      "source": [
        "## Задание 2 (1 балл)\n",
        "\n",
        "Реализуйте нейронную сеть для генератора со следующими слоями:\n",
        "- Полносвязный слой со 100 нейронами;\n",
        "- Слой батч-нормализации;\n",
        "- ReLU функцию активации;\n",
        "- Полносвязный слой со 100 нейронами;\n",
        "- Слой батч-нормализации;\n",
        "- ReLU функцию активации;\n",
        "- Выходной слой.\n",
        "\n",
        "Подсказка: используйте функцию `nn.Sequential()`."
      ]
    },
    {
      "cell_type": "code",
      "execution_count": null,
      "metadata": {
        "id": "9URRqSDxYNyt"
      },
      "outputs": [],
      "source": [
        "class Generator(nn.Module):\n",
        "    \n",
        "    def __init__(self, n_inputs, n_outputs):\n",
        "        super(Generator, self).__init__()\n",
        "        \n",
        "        ### YOUR CODE IS HERE ######\n",
        "        self.net = ...\n",
        "        ### THE END OF YOUR CODE ###\n",
        "\n",
        "    def forward(self, z, y):\n",
        "        zy = torch.cat((z, y), dim=1)\n",
        "        return self.net(zy)"
      ]
    },
    {
      "cell_type": "markdown",
      "metadata": {
        "id": "yruPme7IYNyt"
      },
      "source": [
        "## Задание 3 (1 балл)\n",
        "\n",
        "Реализуйте нейронную сеть для дискриминатора со следующими слоями:\n",
        "- Полносвязный слой со 100 нейронами;\n",
        "- ReLU функцию активации;\n",
        "- Полносвязный слой со 100 нейронами;\n",
        "- ReLU функцию активации;\n",
        "- Выходной слой.\n",
        "\n",
        "Подсказка: используйте функцию `nn.Sequential()`."
      ]
    },
    {
      "cell_type": "code",
      "execution_count": null,
      "metadata": {
        "id": "nWvKP4GlYNyu"
      },
      "outputs": [],
      "source": [
        "class Discriminator(nn.Module):\n",
        "    \n",
        "    def __init__(self, n_inputs):\n",
        "        super(Discriminator, self).__init__()\n",
        "        \n",
        "        ### YOUR CODE IS HERE ######\n",
        "        self.net = ...\n",
        "        ### THE END OF YOUR CODE ###\n",
        "\n",
        "    def forward(self, x, y):\n",
        "        xy = torch.cat((x, y), dim=1)\n",
        "        return self.net(xy)"
      ]
    },
    {
      "cell_type": "markdown",
      "metadata": {
        "id": "Z5drBYO9YNyu"
      },
      "source": [
        "## Задание 4 (2 балла)\n",
        "\n",
        "Реализуйте класс для обучения генеративной модели.\n",
        "\n",
        "- Подсказка 1: не забывайте ограничивать веса дискриминатора. Для этого используйте `p.data.clamp_(-0.01, 0.01)`, где `p` веса дискриминатора.\n",
        "- Подсказка 2: `n_critic` - число итераций обучения дискриминатора на одну итерацию обучения генератора.\n",
        "- Подсказка 3: Используйте `X_tensor = torch.tensor(X_numpy, dtype=torch.float, device=DEVICE)` для перевода numpy в тензор."
      ]
    },
    {
      "cell_type": "code",
      "execution_count": null,
      "metadata": {
        "id": "OezUcEqQYNyu"
      },
      "outputs": [],
      "source": [
        "class Fitter(object):\n",
        "    \n",
        "    def __init__(self, generator, discriminator, batch_size=32, n_epochs=10, latent_dim=1, lr=0.0001, n_critic=5):\n",
        "        \n",
        "        self.generator = generator\n",
        "        self.discriminator = discriminator\n",
        "        self.batch_size = batch_size\n",
        "        self.n_epochs = n_epochs\n",
        "        self.latent_dim = latent_dim\n",
        "        self.lr = lr\n",
        "        self.n_critic = n_critic\n",
        "        \n",
        "        self.opt_gen  = torch.optim.RMSprop(self.generator.parameters(), lr=self.lr)\n",
        "        self.opt_disc = torch.optim.RMSprop(self.discriminator.parameters(), lr=self.lr)\n",
        "        \n",
        "        self.generator.to(DEVICE)\n",
        "        self.discriminator.to(DEVICE)\n",
        "    \n",
        "    \n",
        "    def fit(self, X, y):\n",
        "        \n",
        "        # numpy to tensor\n",
        "        X_real = torch.tensor(X, dtype=torch.float, device=DEVICE)\n",
        "        y_cond = torch.tensor(y, dtype=torch.float, device=DEVICE)\n",
        "        \n",
        "        # tensor to dataset\n",
        "        dataset_real = TensorDataset(X_real, y_cond)\n",
        "        \n",
        "        # Turn on training\n",
        "        self.generator.train(True)\n",
        "        self.discriminator.train(True)\n",
        "        \n",
        "        self.loss_history = []\n",
        "\n",
        "        # Fit GAN\n",
        "        for epoch in range(self.n_epochs):\n",
        "            for i, (real_batch, cond_batch) in enumerate(DataLoader(dataset_real, batch_size=self.batch_size, shuffle=True)):\n",
        "                \n",
        "                ### YOUR CODE IS HERE ######\n",
        "                \n",
        "                ...\n",
        "                    \n",
        "                ### THE END OF YOUR CODE ###\n",
        "                    \n",
        "            # caiculate and store loss after an epoch\n",
        "            Z_noise = torch.normal(0, 1, (len(X_real), self.latent_dim))\n",
        "            X_fake = self.generator(Z_noise, y_cond)\n",
        "            loss_epoch = torch.mean(self.discriminator(X_real, y_cond)) - torch.mean(self.discriminator(X_fake, y_cond))\n",
        "            self.loss_history.append(loss_epoch.detach().cpu())\n",
        "                    \n",
        "        # Turn off training\n",
        "        self.generator.train(False)\n",
        "        self.discriminator.train(False)"
      ]
    },
    {
      "cell_type": "markdown",
      "metadata": {
        "id": "B6Jz8unbYNyu"
      },
      "source": [
        "## Обучение\n",
        "Обучим модель на данных."
      ]
    },
    {
      "cell_type": "code",
      "execution_count": null,
      "metadata": {
        "id": "7ERqbbaZYNyv"
      },
      "outputs": [],
      "source": [
        "%%time\n",
        "latent_dim = 10\n",
        "generator     = Generator(n_inputs=latent_dim+y.shape[1], \n",
        "                          n_outputs=X_train.shape[1])\n",
        "discriminator = Discriminator(n_inputs=X_train.shape[1]+y.shape[1])\n",
        "\n",
        "fitter = Fitter(generator, discriminator, batch_size=50, n_epochs=100, latent_dim=latent_dim, lr=0.0001, n_critic=5)\n",
        "fitter.fit(X_train, y_train)"
      ]
    },
    {
      "cell_type": "code",
      "execution_count": null,
      "metadata": {
        "id": "GEDV4-v8YNyv"
      },
      "outputs": [],
      "source": [
        "# WGAN learning curve\n",
        "plt.figure(figsize=(9, 5))\n",
        "plt.plot(fitter.loss_history)\n",
        "plt.xlabel(\"Epoch Number\", size=14)\n",
        "plt.ylabel(\"Loss Function\", size=14)\n",
        "plt.xticks(size=14)\n",
        "plt.yticks(size=14)\n",
        "plt.title(\"Conditional WGAN Learning Curve\", size=14)\n",
        "plt.grid(b=1, linestyle='--', linewidth=0.5, color='0.5')\n",
        "plt.show()"
      ]
    },
    {
      "cell_type": "markdown",
      "metadata": {
        "id": "Shye37kpYNyv"
      },
      "source": [
        "## Задание 5 (1 балл)\n",
        "\n",
        "Реализуйте функцию для генерации новый объектов $X$ по вектору условий $y$."
      ]
    },
    {
      "cell_type": "code",
      "execution_count": null,
      "metadata": {
        "id": "rJucRPrHYNyz"
      },
      "outputs": [],
      "source": [
        "def generate(generator, y, latent_dim):\n",
        "    ### YOUR CODE IS HERE ######\n",
        "    X_fake = ...\n",
        "    ### THE END OF YOUR CODE ###\n",
        "    return X_fake # numpy"
      ]
    },
    {
      "cell_type": "markdown",
      "metadata": {
        "id": "iHWmpIWCYNy1"
      },
      "source": [
        "Теперь сгенерируем фейковые матрицы `X_fake_train` и `X_fake_test`. Сравним их с матрицами реальных объектов `X_train` и `X_test`"
      ]
    },
    {
      "cell_type": "code",
      "execution_count": null,
      "metadata": {
        "id": "5A0bQU0JYNy1"
      },
      "outputs": [],
      "source": [
        "X_fake_train = generate(fitter.generator, y_train, latent_dim)"
      ]
    },
    {
      "cell_type": "code",
      "execution_count": null,
      "metadata": {
        "id": "gFgjU45vYNy1"
      },
      "outputs": [],
      "source": [
        "plot_hists(X_train, X_fake_train, names, label1=\"Real\", label2=\"Fake\", bins=50)"
      ]
    },
    {
      "cell_type": "code",
      "execution_count": null,
      "metadata": {
        "id": "LBlp91hqYNy1"
      },
      "outputs": [],
      "source": [
        "X_fake_test = generate(fitter.generator, y_test, latent_dim)"
      ]
    },
    {
      "cell_type": "code",
      "execution_count": null,
      "metadata": {
        "id": "UgqRfrLGYNy1"
      },
      "outputs": [],
      "source": [
        "plot_hists(X_test, X_fake_test, names, label1=\"Real\", label2=\"Fake\", bins=50)"
      ]
    },
    {
      "cell_type": "markdown",
      "metadata": {
        "id": "ob9SWtB3YNy2"
      },
      "source": [
        "## Вывод 1: \n",
        "Визуально мы видим сходство реальных и фейковых данных. Однако это только проекции 10-мерных объектов на одну ось."
      ]
    },
    {
      "cell_type": "markdown",
      "metadata": {
        "id": "4hqsgEDxYNy2"
      },
      "source": [
        "# Измерение качества генерации\n",
        "\n",
        "<center><img src=\"img/clf.png\" width=\"600\"></center>\n",
        "\n",
        "Измерим сходство распределений классификатором."
      ]
    },
    {
      "cell_type": "code",
      "execution_count": null,
      "metadata": {
        "id": "cKN-7pZ9YNy2"
      },
      "outputs": [],
      "source": [
        "# собираем реальный и фейковые матрицы в одну\n",
        "XX_train = np.concatenate((X_fake_train, X_train), axis=0)\n",
        "XX_test = np.concatenate((X_fake_test, X_test), axis=0)\n",
        "\n",
        "yy_train = np.array([0]*len(X_fake_train) + [1]*len(X_train))\n",
        "yy_test = np.array([0]*len(X_fake_test) + [1]*len(X_test))"
      ]
    },
    {
      "cell_type": "code",
      "execution_count": null,
      "metadata": {
        "id": "RVqF34DcYNy2"
      },
      "outputs": [],
      "source": [
        "from sklearn.ensemble import GradientBoostingClassifier\n",
        "\n",
        "# обучаем классификатор\n",
        "clf = GradientBoostingClassifier()\n",
        "clf.fit(XX_train, yy_train)\n",
        "\n",
        "# получаем прогнозы\n",
        "yy_test_proba = clf.predict_proba(XX_test)[:, 1]"
      ]
    },
    {
      "cell_type": "code",
      "execution_count": null,
      "metadata": {
        "id": "kb-O8bTUYNy3"
      },
      "outputs": [],
      "source": [
        "from sklearn.metrics import roc_auc_score\n",
        "\n",
        "auc = roc_auc_score(yy_test, yy_test_proba)\n",
        "print(\"ROC AUC = \", auc)"
      ]
    },
    {
      "cell_type": "markdown",
      "metadata": {
        "id": "mley-uhWYNy3"
      },
      "source": [
        "## Вывод 2\n",
        "\n",
        "Идеальное значение ROC AUC равно 0.5. Это соответствует случаю, когда классификатор не может разделить реальные и фейковые данные. В нашем случае ROC AUC около 0.7, что говорит о том, что есть куда улучшать качество генеративной модели :)"
      ]
    },
    {
      "cell_type": "markdown",
      "metadata": {
        "id": "5YmscRuyYNy3"
      },
      "source": [
        "# Условные вариационные автокодировщики"
      ]
    },
    {
      "cell_type": "markdown",
      "metadata": {
        "id": "qGfEhzYPYNy3"
      },
      "source": [
        "<center><img src=\"img/cvae.svg\" width=\"600\"></center>\n",
        "\n",
        "Теперь, решим эту же задачу используя условный автокодировщик (CVAE). Пользуясь вашим семинаром по теме вариационных автокодировщиков выполните следующие задания."
      ]
    },
    {
      "cell_type": "markdown",
      "metadata": {
        "id": "aguQwFnsYNy4"
      },
      "source": [
        "## Задание 6 (1 балл)\n",
        "\n",
        "Реализуйте нейронную сеть для декодеровщика со следующими слоями:\n",
        "- Полносвязный слой со 100 нейронами;\n",
        "- Слой батч-нормализации;\n",
        "- ReLU функцию активации;\n",
        "- Полносвязный слой со 100 нейронами;\n",
        "- Слой батч-нормализации;\n",
        "- ReLU функцию активации;\n",
        "- Выходной слой для mu; Выходной слой для log_sigma;\n",
        "\n",
        "Подсказка: используйте функцию `nn.Sequential()`."
      ]
    },
    {
      "cell_type": "code",
      "execution_count": null,
      "metadata": {
        "id": "whRqs2gTYNy4"
      },
      "outputs": [],
      "source": [
        "class Encoder(nn.Module):\n",
        "    def __init__(self, n_inputs, lat_size):\n",
        "        super(Encoder, self).__init__()\n",
        "        \n",
        "        ### YOUR CODE IS HERE ######\n",
        "        self.enc_net = ...\n",
        "        \n",
        "        self.mu = ...\n",
        "        self.log_sigma = ...\n",
        "        ### THE END OF YOUR CODE ###\n",
        "        \n",
        "    def forward(self, x, y):\n",
        "        z = torch.cat((x, y), dim=1)\n",
        "        z = self.enc_net(z)\n",
        "        mu = self.mu(z)\n",
        "        log_sigma = self.log_sigma(z)\n",
        "        return mu, log_sigma "
      ]
    },
    {
      "cell_type": "markdown",
      "metadata": {
        "id": "dwzNrImZYNy4"
      },
      "source": [
        "## Задание 7 (1 балл)\n",
        "\n",
        "Реализуйте нейронную сеть для декодеровщика со следующими слоями:\n",
        "- Полносвязный слой со 100 нейронами;\n",
        "- ReLU функцию активации;\n",
        "- Полносвязный слой со 100 нейронами;\n",
        "- ReLU функцию активации;\n",
        "- Выходной слой.\n",
        "\n",
        "Подсказка: используйте функцию `nn.Sequential()`."
      ]
    },
    {
      "cell_type": "code",
      "execution_count": null,
      "metadata": {
        "id": "Q7IX0tr8YNy4"
      },
      "outputs": [],
      "source": [
        "class Decoder(nn.Module):\n",
        "    def __init__(self, n_inputs, n_outputs):\n",
        "        super(Decoder, self).__init__()\n",
        "        \n",
        "        ### YOUR CODE IS HERE ######\n",
        "        self.dec_net = ...\n",
        "        ### THE END OF YOUR CODE ###\n",
        "        \n",
        "    def forward(self, z, y):\n",
        "        z_cond = torch.cat((z, y), dim=1)\n",
        "        x_rec = self.dec_net(z_cond)\n",
        "        return x_rec"
      ]
    },
    {
      "cell_type": "markdown",
      "metadata": {
        "id": "ibZ-s5eKYNy4"
      },
      "source": [
        "## Задание 8 (1 балл)\n",
        "\n",
        "Реализуйте класс для обучения вариационного автокодировщика.\n",
        "\n",
        "Подсказка: Используйте `X_tensor = torch.tensor(X_numpy, dtype=torch.float, device=DEVICE)` для перевода numpy в тензор."
      ]
    },
    {
      "cell_type": "code",
      "execution_count": null,
      "metadata": {
        "id": "K-pkURK9YNy5"
      },
      "outputs": [],
      "source": [
        "class VAEFitter(object):\n",
        "    \n",
        "    def __init__(self, encoder, decoder, batch_size=32, n_epochs=10, latent_dim=1, lr=0.0001, KL_weight=0.001):\n",
        "        \n",
        "        self.encoder = encoder\n",
        "        self.decoder = decoder\n",
        "        self.batch_size = batch_size\n",
        "        self.n_epochs = n_epochs\n",
        "        self.latent_dim = latent_dim\n",
        "        self.lr = lr\n",
        "        self.KL_weight = KL_weight\n",
        "        \n",
        "        self.criterion = nn.MSELoss()\n",
        "        self.opt  = torch.optim.RMSprop(list(self.encoder.parameters()) + list(self.decoder.parameters()), lr=self.lr)\n",
        "        \n",
        "        self.encoder.to(DEVICE)\n",
        "        self.decoder.to(DEVICE)\n",
        "        \n",
        "        \n",
        "    def sample_z(self, mu, log_sigma):\n",
        "        eps = torch.randn(mu.shape).to(DEVICE)\n",
        "        return mu + torch.exp(log_sigma / 2) * eps\n",
        "    \n",
        "    def custom_loss(self, x, rec_x, mu, log_sigma):\n",
        "        KL = torch.mean(-0.5 * torch.sum(1 + log_sigma - mu ** 2 - log_sigma.exp(), dim = 1), dim = 0)\n",
        "        recon_loss = self.criterion(x, rec_x)\n",
        "        return KL*self.KL_weight + recon_loss\n",
        "    \n",
        "    \n",
        "    def compute_loss(self, x_batch, cond_batch):\n",
        "        \n",
        "        ### YOUR CODE IS HERE ######\n",
        "        loss = ...\n",
        "        ### THE END OF YOUR CODE ###\n",
        "        \n",
        "        return loss\n",
        "    \n",
        "    \n",
        "    def fit(self, X, y):\n",
        "        \n",
        "        # numpy to tensor\n",
        "        X_real = torch.tensor(X, dtype=torch.float, device=DEVICE)\n",
        "        y_cond = torch.tensor(y, dtype=torch.float, device=DEVICE)\n",
        "        \n",
        "        # tensor to dataset\n",
        "        dataset_real = TensorDataset(X_real, y_cond)\n",
        "        \n",
        "        # Turn on training\n",
        "        self.encoder.train(True)\n",
        "        self.decoder.train(True)\n",
        "        \n",
        "        self.loss_history = []\n",
        "\n",
        "        # Fit GAN\n",
        "        for epoch in range(self.n_epochs):\n",
        "            for i, (x_batch, cond_batch) in enumerate(DataLoader(dataset_real, batch_size=self.batch_size, shuffle=True)):\n",
        "                \n",
        "                # caiculate loss\n",
        "                loss = self.compute_loss(x_batch, cond_batch)\n",
        "                \n",
        "                # optimization step\n",
        "                self.opt.zero_grad()\n",
        "                loss.backward()\n",
        "                self.opt.step()\n",
        "                    \n",
        "            # caiculate and store loss after an epoch\n",
        "            loss_epoch = self.compute_loss(X_real, y_cond)\n",
        "            self.loss_history.append(loss_epoch.detach().cpu())\n",
        "                    \n",
        "        # Turn off training\n",
        "        self.encoder.train(False)\n",
        "        self.decoder.train(False)"
      ]
    },
    {
      "cell_type": "markdown",
      "metadata": {
        "id": "CTTci3RQYNy5"
      },
      "source": [
        "## Обучение\n",
        "Обучим модель на данных."
      ]
    },
    {
      "cell_type": "code",
      "execution_count": null,
      "metadata": {
        "id": "hIQl7EjUYNy5"
      },
      "outputs": [],
      "source": [
        "%%time\n",
        "\n",
        "latent_dim = 10\n",
        "\n",
        "encoder = Encoder(n_inputs=X_train.shape[1]+y.shape[1], lat_size=latent_dim)\n",
        "decoder = Decoder(n_inputs=latent_dim+y.shape[1], n_outputs=X_train.shape[1])\n",
        "\n",
        "vae_fitter = VAEFitter(encoder, decoder, batch_size=50, n_epochs=100, latent_dim=latent_dim, lr=0.001, KL_weight=0.001)\n",
        "vae_fitter.fit(X_train, y_train)"
      ]
    },
    {
      "cell_type": "code",
      "execution_count": null,
      "metadata": {
        "id": "xU1Tw8V6YNy6"
      },
      "outputs": [],
      "source": [
        "# WGAN learning curve\n",
        "plt.figure(figsize=(9, 5))\n",
        "plt.plot(vae_fitter.loss_history)\n",
        "plt.xlabel(\"Epoch Number\", size=14)\n",
        "plt.ylabel(\"Loss Function\", size=14)\n",
        "plt.xticks(size=14)\n",
        "plt.yticks(size=14)\n",
        "plt.title(\"Conditional VAE Learning Curve\", size=14)\n",
        "plt.grid(b=1, linestyle='--', linewidth=0.5, color='0.5')\n",
        "plt.show()"
      ]
    },
    {
      "cell_type": "markdown",
      "metadata": {
        "id": "65V5rJ2DYNy6"
      },
      "source": [
        "## Задание 9 (1 балл)\n",
        "\n",
        "Реализуйте функцию для генерации новый объектов $X$ по вектору условий $y$."
      ]
    },
    {
      "cell_type": "code",
      "execution_count": null,
      "metadata": {
        "id": "3LzXMpfeYNy6"
      },
      "outputs": [],
      "source": [
        "def generate(decoder, y, latent_dim):\n",
        "    ### YOUR CODE IS HERE ######\n",
        "    X_fake = ...\n",
        "    ### THE END OF YOUR CODE ###\n",
        "    return X_fake # numpy"
      ]
    },
    {
      "cell_type": "markdown",
      "metadata": {
        "id": "G_rMixuaYNy6"
      },
      "source": [
        "Теперь сгенерируем фейковые матрицы `X_fake_train` и `X_fake_test`. Сравним их с матрицами реальных объектов `X_train` и `X_test`"
      ]
    },
    {
      "cell_type": "code",
      "execution_count": null,
      "metadata": {
        "id": "UvetPWFZYNy6"
      },
      "outputs": [],
      "source": [
        "X_fake_train = generate(vae_fitter.decoder, y_train, latent_dim)"
      ]
    },
    {
      "cell_type": "code",
      "execution_count": null,
      "metadata": {
        "id": "OC9v2zsPYNy6"
      },
      "outputs": [],
      "source": [
        "plot_hists(X_train, X_fake_train, names, label1=\"Real\", label2=\"Fake\", bins=50)"
      ]
    },
    {
      "cell_type": "code",
      "execution_count": null,
      "metadata": {
        "id": "w1jrInOrYNy6"
      },
      "outputs": [],
      "source": [
        "X_fake_test = generate(vae_fitter.decoder, y_test, latent_dim)"
      ]
    },
    {
      "cell_type": "code",
      "execution_count": null,
      "metadata": {
        "id": "KDWZy6HCYNy7"
      },
      "outputs": [],
      "source": [
        "plot_hists(X_test, X_fake_test, names, label1=\"Real\", label2=\"Fake\", bins=50)"
      ]
    },
    {
      "cell_type": "markdown",
      "metadata": {
        "id": "x6W8_AFvYNy7"
      },
      "source": [
        "# Измерение качества генерации\n",
        "\n",
        "Измерим сходство распределений классификатором."
      ]
    },
    {
      "cell_type": "code",
      "execution_count": null,
      "metadata": {
        "id": "piUBbIMBYNy7"
      },
      "outputs": [],
      "source": [
        "# собираем реальный и фейковые матрицы в одну\n",
        "XX_train = np.concatenate((X_fake_train, X_train), axis=0)\n",
        "XX_test = np.concatenate((X_fake_test, X_test), axis=0)\n",
        "\n",
        "yy_train = np.array([0]*len(X_fake_train) + [1]*len(X_train))\n",
        "yy_test = np.array([0]*len(X_fake_test) + [1]*len(X_test))"
      ]
    },
    {
      "cell_type": "code",
      "execution_count": null,
      "metadata": {
        "id": "MgYgHzSjYNy7"
      },
      "outputs": [],
      "source": [
        "from sklearn.ensemble import GradientBoostingClassifier\n",
        "\n",
        "# обучаем классификатор\n",
        "clf = GradientBoostingClassifier()\n",
        "clf.fit(XX_train, yy_train)\n",
        "\n",
        "# получаем прогнозы\n",
        "yy_test_proba = clf.predict_proba(XX_test)[:, 1]"
      ]
    },
    {
      "cell_type": "code",
      "execution_count": null,
      "metadata": {
        "id": "nq5so-LBYNy7"
      },
      "outputs": [],
      "source": [
        "from sklearn.metrics import roc_auc_score\n",
        "\n",
        "auc = roc_auc_score(yy_test, yy_test_proba)\n",
        "print(\"ROC AUC = \", auc)"
      ]
    },
    {
      "cell_type": "markdown",
      "metadata": {
        "id": "zzacjgizYNy7"
      },
      "source": [
        "## Задание 10 (3 балла)\n",
        "\n",
        "Для CVAE получили ROC AUC около 0.7 (меньше лучше). Таким образом видим, что в данной задаче обе модели ведут себя схожим образом. Но может их можно как-то улучшить? Попробуйте обучить любой вид нормализационного потока для решения этой задачи."
      ]
    },
    {
      "cell_type": "markdown",
      "metadata": {
        "id": "P188MaT9YNy8"
      },
      "source": [
        "<center><img src=\"img/mem1.jpg\" width=\"500\"></center>\n",
        "\n",
        "<center><img src=\"img/mem2.jpg\" width=\"500\"></center>"
      ]
    },
    {
      "cell_type": "code",
      "execution_count": null,
      "metadata": {
        "id": "HAjxoMAAYNy8"
      },
      "outputs": [],
      "source": [
        "# your code here"
      ]
    },
    {
      "cell_type": "markdown",
      "metadata": {
        "id": "mzZYttxEYNy8"
      },
      "source": [
        "# Бонус (1 балл)\n",
        "\n",
        "Попробуйте настроить параметры обучения каждой модели или еще как-нибудь их улучшить, чтобы получить как можно меньший ROC AUC. Что получилось? Какая модель лучше? "
      ]
    },
    {
      "cell_type": "code",
      "execution_count": null,
      "metadata": {
        "id": "-H8lX_sMYNy-"
      },
      "outputs": [],
      "source": [
        "# your code here"
      ]
    }
  ],
  "metadata": {
    "kernelspec": {
      "display_name": "Python 3",
      "language": "python",
      "name": "python3"
    },
    "language_info": {
      "codemirror_mode": {
        "name": "ipython",
        "version": 3
      },
      "file_extension": ".py",
      "mimetype": "text/x-python",
      "name": "python",
      "nbconvert_exporter": "python",
      "pygments_lexer": "ipython3",
      "version": "3.7.6"
    },
    "colab": {
      "provenance": []
    }
  },
  "nbformat": 4,
  "nbformat_minor": 0
}